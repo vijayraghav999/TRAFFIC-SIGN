{
 "cells": [
  {
   "cell_type": "markdown",
   "id": "5824f096",
   "metadata": {},
   "source": [
    "## Import the packages"
   ]
  },
  {
   "cell_type": "code",
   "execution_count": null,
   "id": "3193c2ef",
   "metadata": {},
   "outputs": [],
   "source": [
    "import numpy as np\n",
    "import pandas as pd\n",
    "import tensorflow as tf\n",
    "import matplotlib.pyplot as plt\n",
    "import warnings\n",
    "from tensorflow.keras.preprocessing.image import load_img\n",
    "import os\n",
    "from sklearn.model_selection import train_test_split\n",
    "from sklearn.metrics import accuracy_score\n",
    "warnings.filterwarnings('ignore')"
   ]
  },
  {
   "cell_type": "markdown",
   "id": "dd3f433e",
   "metadata": {},
   "source": [
    "## Load the data"
   ]
  },
  {
   "cell_type": "code",
   "execution_count": null,
   "id": "68f18c28",
   "metadata": {},
   "outputs": [],
   "source": [
    "curr_dir = os.getcwd()\n",
    "curr_dir"
   ]
  },
  {
   "cell_type": "code",
   "execution_count": 5,
   "id": "bab02e5c",
   "metadata": {},
   "outputs": [],
   "source": [
    "# get the location of the data folder\n",
    "\n",
    "data_dir = os.path.join(curr_dir,'Data')"
   ]
  },
  {
   "cell_type": "code",
   "execution_count": 6,
   "id": "4ffb31ff",
   "metadata": {},
   "outputs": [],
   "source": [
    "test_csv = pd.read_csv(data_dir+'/'+'Test.csv')"
   ]
  },
  {
   "cell_type": "code",
   "execution_count": 7,
   "id": "0406dc8d",
   "metadata": {},
   "outputs": [],
   "source": [
    "train_dir = os.path.join(data_dir,'Train')"
   ]
  },
  {
   "cell_type": "code",
   "execution_count": 8,
   "id": "622f7614",
   "metadata": {},
   "outputs": [],
   "source": [
    "test_dir = os.path.join(data_dir,'Test')"
   ]
  },
  {
   "cell_type": "code",
   "execution_count": 9,
   "id": "3cd15892",
   "metadata": {},
   "outputs": [],
   "source": [
    "# Image collection and Preprocessing\n",
    "#collect all the training images\n",
    "\n",
    "classIds = 43\n",
    "datalist = []\n",
    "labels = []\n",
    "for i in range(43):\n",
    "    folder = os.path.join(train_dir,str(i))\n",
    "    for image in os.listdir(folder):\n",
    "        image = load_img(folder+\"/\"+image)\n",
    "        image = image.resize((50,50)) # resizing all the images to same size\n",
    "        img = np.array(image)  #convert all images to arrays\n",
    "        datalist.append(img)\n",
    "        labels.append(i)\n",
    "data = np.array(datalist)\n",
    "labels = np.array(labels)\n",
    "        "
   ]
  },
  {
   "cell_type": "markdown",
   "id": "59b24f3b",
   "metadata": {},
   "source": [
    "## Training,Cross-validation and model tuning"
   ]
  },
  {
   "cell_type": "code",
   "execution_count": 10,
   "id": "bd97a035",
   "metadata": {},
   "outputs": [],
   "source": [
    "# split the data into train and validation sets\n",
    "\n",
    "x_train,x_val,y_train,y_val = train_test_split(data,labels,test_size=0.2)"
   ]
  },
  {
   "cell_type": "code",
   "execution_count": 11,
   "id": "5c0a7c93",
   "metadata": {},
   "outputs": [
    {
     "data": {
      "text/plain": [
       "(31367, 50, 50, 3)"
      ]
     },
     "execution_count": 11,
     "metadata": {},
     "output_type": "execute_result"
    }
   ],
   "source": [
    "x_train.shape"
   ]
  },
  {
   "cell_type": "code",
   "execution_count": 12,
   "id": "ab42d5cd",
   "metadata": {},
   "outputs": [
    {
     "data": {
      "text/plain": [
       "(31367,)"
      ]
     },
     "execution_count": 12,
     "metadata": {},
     "output_type": "execute_result"
    }
   ],
   "source": [
    "y_train.shape"
   ]
  },
  {
   "cell_type": "code",
   "execution_count": 13,
   "id": "700bbadf",
   "metadata": {},
   "outputs": [
    {
     "data": {
      "text/plain": [
       "(7842, 50, 50, 3)"
      ]
     },
     "execution_count": 13,
     "metadata": {},
     "output_type": "execute_result"
    }
   ],
   "source": [
    "x_val.shape"
   ]
  },
  {
   "cell_type": "code",
   "execution_count": 14,
   "id": "7274619f",
   "metadata": {},
   "outputs": [
    {
     "data": {
      "text/plain": [
       "(7842,)"
      ]
     },
     "execution_count": 14,
     "metadata": {},
     "output_type": "execute_result"
    }
   ],
   "source": [
    "y_val.shape"
   ]
  },
  {
   "cell_type": "markdown",
   "id": "94b068ce",
   "metadata": {},
   "source": [
    "Since we are dealing with classification problem we have to perform one hot encoding on our labels. It is optional though instead of that we can just leave it and use appropriate loss function during compilation."
   ]
  },
  {
   "cell_type": "code",
   "execution_count": 15,
   "id": "56dd9918",
   "metadata": {},
   "outputs": [],
   "source": [
    "# Perform one-hot encoding on the labels\n",
    "\n",
    "y_train = tf.one_hot(y_train,43)\n",
    "y_val = tf.one_hot(y_val,43)"
   ]
  },
  {
   "cell_type": "markdown",
   "id": "83b2da12",
   "metadata": {},
   "source": [
    "### Build the model"
   ]
  },
  {
   "cell_type": "code",
   "execution_count": 16,
   "id": "3b98e142",
   "metadata": {},
   "outputs": [],
   "source": [
    "# Architecture of the model\n",
    "\n",
    "model = tf.keras.Sequential()\n",
    "model.add(tf.keras.layers.Conv2D(16,(3,3),activation='relu',input_shape = (50,50,3),padding='same'))\n",
    "model.add(tf.keras.layers.MaxPooling2D((2,2)))\n",
    "\n",
    "model.add(tf.keras.layers.Conv2D(32,(3,3),padding='same',activation='relu'))\n",
    "model.add(tf.keras.layers.MaxPooling2D((2,2)))\n",
    "\n",
    "model.add(tf.keras.layers.Dropout(0.25))\n",
    "\n",
    "model.add(tf.keras.layers.Conv2D(64,(3,3),padding='same',activation='relu'))\n",
    "model.add(tf.keras.layers.MaxPooling2D((2,2)))\n",
    "\n",
    "model.add(tf.keras.layers.Conv2D(128,(3,3),padding='same',activation='relu'))\n",
    "model.add(tf.keras.layers.MaxPooling2D((2,2)))\n",
    "\n",
    "model.add(tf.keras.layers.Dropout(0.25))\n",
    "\n",
    "model.add(tf.keras.layers.Conv2D(128,(3,3),padding='same',activation='relu'))\n",
    "model.add(tf.keras.layers.MaxPooling2D((2,2)))\n",
    "\n",
    "model.add(tf.keras.layers.Flatten()) # flatten the output of previous layer to 1D array in order to feed into fully connected layer\n",
    "\n",
    "model.add(tf.keras.layers.Dropout(0.25))\n",
    "\n",
    "model.add(tf.keras.layers.Dense(512,activation='relu'))\n",
    "model.add(tf.keras.layers.Dense(512,activation='relu'))\n",
    "\n",
    "model.add(tf.keras.layers.Dense(43,activation='softmax'))"
   ]
  },
  {
   "cell_type": "code",
   "execution_count": 17,
   "id": "fe47ae1b",
   "metadata": {},
   "outputs": [],
   "source": [
    "# Specify batch size and no of epochs\n",
    "\n",
    "batch_size = 64\n",
    "epochs = 20"
   ]
  },
  {
   "cell_type": "markdown",
   "id": "fd64de71",
   "metadata": {},
   "source": [
    "### Compile the model"
   ]
  },
  {
   "cell_type": "code",
   "execution_count": 18,
   "id": "75fbc3f7",
   "metadata": {},
   "outputs": [],
   "source": [
    "# Compile the model\n",
    "\n",
    "model.compile(optimizer='adam',loss=\"categorical_crossentropy\",metrics=['accuracy'])"
   ]
  },
  {
   "cell_type": "code",
   "execution_count": 19,
   "id": "a4dc705a",
   "metadata": {},
   "outputs": [
    {
     "name": "stdout",
     "output_type": "stream",
     "text": [
      "Model: \"sequential\"\n",
      "_________________________________________________________________\n",
      " Layer (type)                Output Shape              Param #   \n",
      "=================================================================\n",
      " conv2d (Conv2D)             (None, 50, 50, 16)        448       \n",
      "                                                                 \n",
      " max_pooling2d (MaxPooling2D  (None, 25, 25, 16)       0         \n",
      " )                                                               \n",
      "                                                                 \n",
      " conv2d_1 (Conv2D)           (None, 25, 25, 32)        4640      \n",
      "                                                                 \n",
      " max_pooling2d_1 (MaxPooling  (None, 12, 12, 32)       0         \n",
      " 2D)                                                             \n",
      "                                                                 \n",
      " dropout (Dropout)           (None, 12, 12, 32)        0         \n",
      "                                                                 \n",
      " conv2d_2 (Conv2D)           (None, 12, 12, 64)        18496     \n",
      "                                                                 \n",
      " max_pooling2d_2 (MaxPooling  (None, 6, 6, 64)         0         \n",
      " 2D)                                                             \n",
      "                                                                 \n",
      " conv2d_3 (Conv2D)           (None, 6, 6, 128)         73856     \n",
      "                                                                 \n",
      " max_pooling2d_3 (MaxPooling  (None, 3, 3, 128)        0         \n",
      " 2D)                                                             \n",
      "                                                                 \n",
      " dropout_1 (Dropout)         (None, 3, 3, 128)         0         \n",
      "                                                                 \n",
      " conv2d_4 (Conv2D)           (None, 3, 3, 128)         147584    \n",
      "                                                                 \n",
      " max_pooling2d_4 (MaxPooling  (None, 1, 1, 128)        0         \n",
      " 2D)                                                             \n",
      "                                                                 \n",
      " flatten (Flatten)           (None, 128)               0         \n",
      "                                                                 \n",
      " dropout_2 (Dropout)         (None, 128)               0         \n",
      "                                                                 \n",
      " dense (Dense)               (None, 512)               66048     \n",
      "                                                                 \n",
      " dense_1 (Dense)             (None, 512)               262656    \n",
      "                                                                 \n",
      " dense_2 (Dense)             (None, 43)                22059     \n",
      "                                                                 \n",
      "=================================================================\n",
      "Total params: 595,787\n",
      "Trainable params: 595,787\n",
      "Non-trainable params: 0\n",
      "_________________________________________________________________\n"
     ]
    }
   ],
   "source": [
    "# summary of the model\n",
    "\n",
    "model.summary()"
   ]
  },
  {
   "cell_type": "markdown",
   "id": "e7443ed3",
   "metadata": {},
   "source": [
    "We have a total of around 6,00,000 trainable paramaters in our model which gets updated during the training process according to the training loss."
   ]
  },
  {
   "cell_type": "code",
   "execution_count": 20,
   "id": "02661412",
   "metadata": {},
   "outputs": [
    {
     "name": "stdout",
     "output_type": "stream",
     "text": [
      "Epoch 1/20\n",
      "491/491 [==============================] - 7s 11ms/step - loss: 2.5591 - accuracy: 0.2823 - val_loss: 1.3271 - val_accuracy: 0.5333\n",
      "Epoch 2/20\n",
      "491/491 [==============================] - 5s 11ms/step - loss: 1.0360 - accuracy: 0.6604 - val_loss: 0.4178 - val_accuracy: 0.8623\n",
      "Epoch 3/20\n",
      "491/491 [==============================] - 5s 11ms/step - loss: 0.5546 - accuracy: 0.8197 - val_loss: 0.2143 - val_accuracy: 0.9323\n",
      "Epoch 4/20\n",
      "491/491 [==============================] - 5s 11ms/step - loss: 0.3806 - accuracy: 0.8798 - val_loss: 0.1654 - val_accuracy: 0.9467\n",
      "Epoch 5/20\n",
      "491/491 [==============================] - 5s 11ms/step - loss: 0.2862 - accuracy: 0.9113 - val_loss: 0.1035 - val_accuracy: 0.9707\n",
      "Epoch 6/20\n",
      "491/491 [==============================] - 5s 11ms/step - loss: 0.2457 - accuracy: 0.9254 - val_loss: 0.0681 - val_accuracy: 0.9818\n",
      "Epoch 7/20\n",
      "491/491 [==============================] - 6s 12ms/step - loss: 0.2080 - accuracy: 0.9377 - val_loss: 0.0572 - val_accuracy: 0.9834\n",
      "Epoch 8/20\n",
      "491/491 [==============================] - 5s 11ms/step - loss: 0.1831 - accuracy: 0.9454 - val_loss: 0.0893 - val_accuracy: 0.9767\n",
      "Epoch 9/20\n",
      "491/491 [==============================] - 5s 11ms/step - loss: 0.1761 - accuracy: 0.9493 - val_loss: 0.0700 - val_accuracy: 0.9815\n",
      "Epoch 10/20\n",
      "491/491 [==============================] - 5s 11ms/step - loss: 0.1889 - accuracy: 0.9470 - val_loss: 0.0656 - val_accuracy: 0.9809\n",
      "Epoch 11/20\n",
      "491/491 [==============================] - 5s 11ms/step - loss: 0.1616 - accuracy: 0.9542 - val_loss: 0.0434 - val_accuracy: 0.9883\n",
      "Epoch 12/20\n",
      "491/491 [==============================] - 5s 11ms/step - loss: 0.1406 - accuracy: 0.9596 - val_loss: 0.0311 - val_accuracy: 0.9907\n",
      "Epoch 13/20\n",
      "491/491 [==============================] - 5s 11ms/step - loss: 0.1353 - accuracy: 0.9616 - val_loss: 0.0401 - val_accuracy: 0.9883\n",
      "Epoch 14/20\n",
      "491/491 [==============================] - 5s 11ms/step - loss: 0.1430 - accuracy: 0.9602 - val_loss: 0.0523 - val_accuracy: 0.9858\n",
      "Epoch 15/20\n",
      "491/491 [==============================] - 5s 11ms/step - loss: 0.1323 - accuracy: 0.9637 - val_loss: 0.0341 - val_accuracy: 0.9912\n",
      "Epoch 16/20\n",
      "491/491 [==============================] - 5s 11ms/step - loss: 0.1264 - accuracy: 0.9665 - val_loss: 0.0297 - val_accuracy: 0.9926\n",
      "Epoch 17/20\n",
      "491/491 [==============================] - 5s 11ms/step - loss: 0.1286 - accuracy: 0.9652 - val_loss: 0.0503 - val_accuracy: 0.9851\n",
      "Epoch 18/20\n",
      "491/491 [==============================] - 5s 11ms/step - loss: 0.1130 - accuracy: 0.9701 - val_loss: 0.0280 - val_accuracy: 0.9926\n",
      "Epoch 19/20\n",
      "491/491 [==============================] - 5s 11ms/step - loss: 0.1456 - accuracy: 0.9626 - val_loss: 0.0580 - val_accuracy: 0.9830\n",
      "Epoch 20/20\n",
      "491/491 [==============================] - 5s 11ms/step - loss: 0.1233 - accuracy: 0.9677 - val_loss: 0.0423 - val_accuracy: 0.9878\n"
     ]
    }
   ],
   "source": [
    "# Train the model\n",
    "\n",
    "history = model.fit(x_train,y_train,\n",
    "                   epochs=epochs,batch_size=batch_size,validation_data=(x_val,y_val))"
   ]
  },
  {
   "cell_type": "code",
   "execution_count": 21,
   "id": "cbf733d7",
   "metadata": {},
   "outputs": [],
   "source": [
    "# get the fit method results\n",
    "\n",
    "loss= history.history['loss']\n",
    "train_acc = history.history['accuracy']\n",
    "\n",
    "val_loss = history.history['val_loss']\n",
    "val_acc = history.history['val_accuracy']"
   ]
  },
  {
   "cell_type": "code",
   "execution_count": 22,
   "id": "a15f6e31",
   "metadata": {},
   "outputs": [
    {
     "data": {
      "image/png": "[encoded data removed]",
      "text/plain": [
       "<Figure size 1008x720 with 1 Axes>"
      ]
     },
     "metadata": {
      "needs_background": "light"
     },
     "output_type": "display_data"
    }
   ],
   "source": [
    "# plot the loss vs epochs \n",
    "\n",
    "plt.figure(figsize=(14,10))\n",
    "iterations = range(epochs)\n",
    "plt.plot(iterations,loss,label='Training_loss',color='red')\n",
    "plt.plot(iterations,val_loss,label='validation_loss',color='blue')\n",
    "plt.xlabel('no of iterations')\n",
    "plt.ylabel('loss')\n",
    "plt.title('Loss vs No of iterations')\n",
    "plt.legend()\n",
    "plt.show()"
   ]
  },
  {
   "cell_type": "code",
   "execution_count": null,
   "id": "33153851",
   "metadata": {},
   "outputs": [],
   "source": [
    "plt.figure(figsize=(14,10))\n",
    "iterations = range(epochs)\n",
    "plt.plot(iterations,train_acc,label='Training_accuracy',color='red')\n",
    "plt.plot(iterations,val_acc,label='validation_accuracy',color='blue')\n",
    "plt.xlabel('no of iterations')\n",
    "plt.ylabel('Accuracy')\n",
    "plt.title('Accuracy vs No of iterations')\n",
    "plt.legend()\n",
    "plt.show()"
   ]
  },
  {
   "cell_type": "markdown",
   "id": "70105543",
   "metadata": {},
   "source": [
    "- Observations:\n",
    "    - Train accuracy and validation accuracy remains almost same after 10 epochs. so it's probably better to keep epochs to 10.\n",
    "    - Model seems to perform very well on both training and validation sets  \n",
    "    - Model seems to perform well on validation set more than on training set. "
   ]
  },
  {
   "cell_type": "markdown",
   "id": "4da3e935",
   "metadata": {},
   "source": [
    "## Predictions"
   ]
  },
  {
   "cell_type": "markdown",
   "id": "4f08a4ff",
   "metadata": {},
   "source": [
    "Before we make predictions we have to collect our test images from test folder in our base directory. Then we will test our model on this set to see how well it generalizes."
   ]
  },
  {
   "cell_type": "code",
   "execution_count": 23,
   "id": "c6e5bb19",
   "metadata": {},
   "outputs": [
    {
     "data": {
      "text/html": [
       "<div>\n",
       "<style scoped>\n",
       "    .dataframe tbody tr th:only-of-type {\n",
       "        vertical-align: middle;\n",
       "    }\n",
       "\n",
       "    .dataframe tbody tr th {\n",
       "        vertical-align: top;\n",
       "    }\n",
       "\n",
       "    .dataframe thead th {\n",
       "        text-align: right;\n",
       "    }\n",
       "</style>\n",
       "<table border=\"1\" class=\"dataframe\">\n",
       "  <thead>\n",
       "    <tr style=\"text-align: right;\">\n",
       "      <th></th>\n",
       "      <th>Width</th>\n",
       "      <th>Height</th>\n",
       "      <th>Roi.X1</th>\n",
       "      <th>Roi.Y1</th>\n",
       "      <th>Roi.X2</th>\n",
       "      <th>Roi.Y2</th>\n",
       "      <th>ClassId</th>\n",
       "      <th>Path</th>\n",
       "    </tr>\n",
       "  </thead>\n",
       "  <tbody>\n",
       "    <tr>\n",
       "      <th>0</th>\n",
       "      <td>53</td>\n",
       "      <td>54</td>\n",
       "      <td>6</td>\n",
       "      <td>5</td>\n",
       "      <td>48</td>\n",
       "      <td>49</td>\n",
       "      <td>16</td>\n",
       "      <td>Test/00000.png</td>\n",
       "    </tr>\n",
       "    <tr>\n",
       "      <th>1</th>\n",
       "      <td>42</td>\n",
       "      <td>45</td>\n",
       "      <td>5</td>\n",
       "      <td>5</td>\n",
       "      <td>36</td>\n",
       "      <td>40</td>\n",
       "      <td>1</td>\n",
       "      <td>Test/00001.png</td>\n",
       "    </tr>\n",
       "    <tr>\n",
       "      <th>2</th>\n",
       "      <td>48</td>\n",
       "      <td>52</td>\n",
       "      <td>6</td>\n",
       "      <td>6</td>\n",
       "      <td>43</td>\n",
       "      <td>47</td>\n",
       "      <td>38</td>\n",
       "      <td>Test/00002.png</td>\n",
       "    </tr>\n",
       "    <tr>\n",
       "      <th>3</th>\n",
       "      <td>27</td>\n",
       "      <td>29</td>\n",
       "      <td>5</td>\n",
       "      <td>5</td>\n",
       "      <td>22</td>\n",
       "      <td>24</td>\n",
       "      <td>33</td>\n",
       "      <td>Test/00003.png</td>\n",
       "    </tr>\n",
       "    <tr>\n",
       "      <th>4</th>\n",
       "      <td>60</td>\n",
       "      <td>57</td>\n",
       "      <td>5</td>\n",
       "      <td>5</td>\n",
       "      <td>55</td>\n",
       "      <td>52</td>\n",
       "      <td>11</td>\n",
       "      <td>Test/00004.png</td>\n",
       "    </tr>\n",
       "  </tbody>\n",
       "</table>\n",
       "</div>"
      ],
      "text/plain": [
       "   Width  Height  Roi.X1  Roi.Y1  Roi.X2  Roi.Y2  ClassId            Path\n",
       "0     53      54       6       5      48      49       16  Test/00000.png\n",
       "1     42      45       5       5      36      40        1  Test/00001.png\n",
       "2     48      52       6       6      43      47       38  Test/00002.png\n",
       "3     27      29       5       5      22      24       33  Test/00003.png\n",
       "4     60      57       5       5      55      52       11  Test/00004.png"
      ]
     },
     "execution_count": 23,
     "metadata": {},
     "output_type": "execute_result"
    }
   ],
   "source": [
    "test_csv.head()"
   ]
  },
  {
   "cell_type": "code",
   "execution_count": 24,
   "id": "8763695b",
   "metadata": {},
   "outputs": [],
   "source": [
    "test_labels = test_csv['ClassId'].values"
   ]
  },
  {
   "cell_type": "code",
   "execution_count": 25,
   "id": "024287bf",
   "metadata": {},
   "outputs": [],
   "source": [
    "# Get the test images, resize them and convert them into numpy arrays.\n",
    "\n",
    "image_paths = test_csv['Path'].values\n",
    "test_images = []\n",
    "\n",
    "for img_path in image_paths:\n",
    "    image = load_img(data_dir+'/'+img_path)\n",
    "    image = image.resize((50,50))\n",
    "    img = np.array(image)\n",
    "    test_images.append(img)\n",
    "\n",
    "test_images = np.array(test_images)"
   ]
  },
  {
   "cell_type": "code",
   "execution_count": 26,
   "id": "4707c317",
   "metadata": {},
   "outputs": [
    {
     "name": "stdout",
     "output_type": "stream",
     "text": [
      "395/395 [==============================] - 1s 3ms/step\n"
     ]
    }
   ],
   "source": [
    "# make predictions\n",
    "\n",
    "predictions = model.predict(test_images)"
   ]
  },
  {
   "cell_type": "code",
   "execution_count": 27,
   "id": "0e4e53e0",
   "metadata": {},
   "outputs": [
    {
     "data": {
      "text/plain": [
       "12630"
      ]
     },
     "execution_count": 27,
     "metadata": {},
     "output_type": "execute_result"
    }
   ],
   "source": [
    "len(predictions)"
   ]
  },
  {
   "cell_type": "code",
   "execution_count": 28,
   "id": "1d81421c",
   "metadata": {},
   "outputs": [],
   "source": [
    "# Get the id of each test image and store it in a list\n",
    "\n",
    "pred_labels = []\n",
    "\n",
    "for i,arr in enumerate(predictions):\n",
    "    y_pred = np.argmax(arr)\n",
    "    pred_labels.append(y_pred)\n"
   ]
  },
  {
   "cell_type": "code",
   "execution_count": 29,
   "id": "e683464f",
   "metadata": {},
   "outputs": [],
   "source": [
    "pred_labels = np.array(pred_labels)"
   ]
  },
  {
   "cell_type": "code",
   "execution_count": 30,
   "id": "bbad6a8f",
   "metadata": {},
   "outputs": [
    {
     "name": "stdout",
     "output_type": "stream",
     "text": [
      "Accuracy:  0.9642913697545527\n"
     ]
    }
   ],
   "source": [
    "# Calculate the accuracy of model on test images.\n",
    "\n",
    "print('Accuracy: ',accuracy_score(test_labels,pred_labels))"
   ]
  },
  {
   "cell_type": "markdown",
   "id": "3d330661",
   "metadata": {},
   "source": [
    "After so many trial and error, I have managed to increase the accuracy of my model from 91 % to 96.4 % using popular overfitting remedy called dropout."
   ]
  },
  {
   "cell_type": "markdown",
   "id": "9bd5831b",
   "metadata": {},
   "source": [
    "### Save the model for deployment."
   ]
  },
  {
   "cell_type": "code",
   "execution_count": null,
   "id": "9cec3f62",
   "metadata": {},
   "outputs": [],
   "source": [
    "# save the model for future purposes\n",
    "\n",
    "model.save('my_model')"
   ]
  }
 ],
 "metadata": {
  "kernelspec": {
   "display_name": "Python 3 (ipykernel)",
   "language": "python",
   "name": "python3"
  },
  "language_info": {
   "codemirror_mode": {
    "name": "ipython",
    "version": 3
   },
   "file_extension": ".py",
   "mimetype": "text/x-python",
   "name": "python",
   "nbconvert_exporter": "python",
   "pygments_lexer": "ipython3",
   "version": "3.9.12"
  },
  "vscode": {
   "interpreter": {
    "hash": "09fd5e14ca5ef89fb8e101525347d1592dbe686e091b6080b74fcfad67235427"
   }
  }
 },
 "nbformat": 4,
 "nbformat_minor": 5
}
